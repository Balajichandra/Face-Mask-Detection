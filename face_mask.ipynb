{
 "cells": [
  {
   "cell_type": "code",
   "execution_count": 1,
   "id": "07aa4639",
   "metadata": {},
   "outputs": [],
   "source": [
    "#To allocate memorey for gpu(here we are using 50%)\n",
    "from tensorflow.compat.v1 import ConfigProto\n",
    "from tensorflow.compat.v1 import InteractiveSession\n",
    "\n",
    "config = ConfigProto()\n",
    "config.gpu_options.per_process_gpu_memory_fraction = 0.5\n",
    "config.gpu_options.allow_growth = True\n",
    "session = InteractiveSession(config=config)"
   ]
  },
  {
   "cell_type": "code",
   "execution_count": 2,
   "id": "066bf43b",
   "metadata": {},
   "outputs": [
    {
     "name": "stdout",
     "output_type": "stream",
     "text": [
      "2.0.0\n"
     ]
    }
   ],
   "source": [
    "import tensorflow as tf\n",
    "print(tf.__version__)"
   ]
  },
  {
   "cell_type": "code",
   "execution_count": 3,
   "id": "4a961d11",
   "metadata": {},
   "outputs": [
    {
     "name": "stderr",
     "output_type": "stream",
     "text": [
      "Using TensorFlow backend.\n"
     ]
    }
   ],
   "source": [
    "from keras.layers import Input, Lambda, Dense, Flatten\n",
    "from keras.models import Model\n",
    "from keras.applications.vgg16 import VGG16\n",
    "from keras.preprocessing import image\n",
    "from keras.preprocessing.image import ImageDataGenerator,load_img\n",
    "from keras.models import Sequential"
   ]
  },
  {
   "cell_type": "code",
   "execution_count": 4,
   "id": "75c44d55",
   "metadata": {},
   "outputs": [],
   "source": [
    "import numpy as np\n",
    "from glob import glob"
   ]
  },
  {
   "cell_type": "code",
   "execution_count": 5,
   "id": "05ea2f16",
   "metadata": {},
   "outputs": [],
   "source": [
    "#resize all images\n",
    "IMAGE_SIZE = [224,224]\n",
    "train_path = 'train'\n",
    "test_path = 'test'"
   ]
  },
  {
   "cell_type": "code",
   "execution_count": 6,
   "id": "065cbf02",
   "metadata": {},
   "outputs": [],
   "source": [
    "vgg16 = VGG16(input_shape=IMAGE_SIZE + [3],weights='imagenet',include_top=False)"
   ]
  },
  {
   "cell_type": "code",
   "execution_count": 7,
   "id": "96c56485",
   "metadata": {},
   "outputs": [],
   "source": [
    "#dont train existing weights\n",
    "for layer in vgg16.layers:\n",
    "    layer.trainable = False"
   ]
  },
  {
   "cell_type": "code",
   "execution_count": 8,
   "id": "3046381a",
   "metadata": {},
   "outputs": [
    {
     "data": {
      "text/plain": [
       "['train\\\\without_mask', 'train\\\\with_mask']"
      ]
     },
     "execution_count": 8,
     "metadata": {},
     "output_type": "execute_result"
    }
   ],
   "source": [
    "train_folders = glob('train/*')\n",
    "train_folders"
   ]
  },
  {
   "cell_type": "code",
   "execution_count": 9,
   "id": "ba852846",
   "metadata": {},
   "outputs": [
    {
     "data": {
      "text/plain": [
       "['test\\\\without_mask', 'test\\\\with_mask']"
      ]
     },
     "execution_count": 9,
     "metadata": {},
     "output_type": "execute_result"
    }
   ],
   "source": [
    "test_folders = glob('test/*')\n",
    "test_folders"
   ]
  },
  {
   "cell_type": "code",
   "execution_count": 10,
   "id": "667bf341",
   "metadata": {},
   "outputs": [],
   "source": [
    "#flattern layer\n",
    "x = Flatten()(vgg16.output)"
   ]
  },
  {
   "cell_type": "code",
   "execution_count": 11,
   "id": "f506f1e9",
   "metadata": {},
   "outputs": [],
   "source": [
    "prediction = Dense(2,activation='softmax')(x)\n",
    "#create model\n",
    "model = Model(inputs=vgg16.input,outputs=prediction)"
   ]
  },
  {
   "cell_type": "code",
   "execution_count": 12,
   "id": "6f9e2663",
   "metadata": {},
   "outputs": [
    {
     "name": "stdout",
     "output_type": "stream",
     "text": [
      "Model: \"model_1\"\n",
      "_________________________________________________________________\n",
      "Layer (type)                 Output Shape              Param #   \n",
      "=================================================================\n",
      "input_1 (InputLayer)         (None, 224, 224, 3)       0         \n",
      "_________________________________________________________________\n",
      "block1_conv1 (Conv2D)        (None, 224, 224, 64)      1792      \n",
      "_________________________________________________________________\n",
      "block1_conv2 (Conv2D)        (None, 224, 224, 64)      36928     \n",
      "_________________________________________________________________\n",
      "block1_pool (MaxPooling2D)   (None, 112, 112, 64)      0         \n",
      "_________________________________________________________________\n",
      "block2_conv1 (Conv2D)        (None, 112, 112, 128)     73856     \n",
      "_________________________________________________________________\n",
      "block2_conv2 (Conv2D)        (None, 112, 112, 128)     147584    \n",
      "_________________________________________________________________\n",
      "block2_pool (MaxPooling2D)   (None, 56, 56, 128)       0         \n",
      "_________________________________________________________________\n",
      "block3_conv1 (Conv2D)        (None, 56, 56, 256)       295168    \n",
      "_________________________________________________________________\n",
      "block3_conv2 (Conv2D)        (None, 56, 56, 256)       590080    \n",
      "_________________________________________________________________\n",
      "block3_conv3 (Conv2D)        (None, 56, 56, 256)       590080    \n",
      "_________________________________________________________________\n",
      "block3_pool (MaxPooling2D)   (None, 28, 28, 256)       0         \n",
      "_________________________________________________________________\n",
      "block4_conv1 (Conv2D)        (None, 28, 28, 512)       1180160   \n",
      "_________________________________________________________________\n",
      "block4_conv2 (Conv2D)        (None, 28, 28, 512)       2359808   \n",
      "_________________________________________________________________\n",
      "block4_conv3 (Conv2D)        (None, 28, 28, 512)       2359808   \n",
      "_________________________________________________________________\n",
      "block4_pool (MaxPooling2D)   (None, 14, 14, 512)       0         \n",
      "_________________________________________________________________\n",
      "block5_conv1 (Conv2D)        (None, 14, 14, 512)       2359808   \n",
      "_________________________________________________________________\n",
      "block5_conv2 (Conv2D)        (None, 14, 14, 512)       2359808   \n",
      "_________________________________________________________________\n",
      "block5_conv3 (Conv2D)        (None, 14, 14, 512)       2359808   \n",
      "_________________________________________________________________\n",
      "block5_pool (MaxPooling2D)   (None, 7, 7, 512)         0         \n",
      "_________________________________________________________________\n",
      "flatten_1 (Flatten)          (None, 25088)             0         \n",
      "_________________________________________________________________\n",
      "dense_1 (Dense)              (None, 2)                 50178     \n",
      "=================================================================\n",
      "Total params: 14,764,866\n",
      "Trainable params: 50,178\n",
      "Non-trainable params: 14,714,688\n",
      "_________________________________________________________________\n"
     ]
    }
   ],
   "source": [
    "model.summary()"
   ]
  },
  {
   "cell_type": "code",
   "execution_count": 13,
   "id": "05dccfd9",
   "metadata": {},
   "outputs": [],
   "source": [
    "model.compile(loss='categorical_crossentropy',\n",
    "              optimizer='adam',\n",
    "              metrics=['accuracy'])"
   ]
  },
  {
   "cell_type": "code",
   "execution_count": 14,
   "id": "53e13fe3",
   "metadata": {},
   "outputs": [],
   "source": [
    "train_datagen = ImageDataGenerator(rescale=1./255,\n",
    "                                   shear_range=0.2,\n",
    "                                   zoom_range=0.2,\n",
    "                                   horizontal_flip = True)"
   ]
  },
  {
   "cell_type": "code",
   "execution_count": 15,
   "id": "ba489131",
   "metadata": {},
   "outputs": [],
   "source": [
    "test_datagen = ImageDataGenerator(rescale=1./255)"
   ]
  },
  {
   "cell_type": "code",
   "execution_count": 16,
   "id": "7d3b9fc4",
   "metadata": {},
   "outputs": [
    {
     "name": "stdout",
     "output_type": "stream",
     "text": [
      "Found 3066 images belonging to 2 classes.\n"
     ]
    }
   ],
   "source": [
    "training_set = train_datagen.flow_from_directory('train',\n",
    "                                                 target_size=(224,224),\n",
    "                                                 batch_size = 32,\n",
    "                                                 class_mode = 'categorical')"
   ]
  },
  {
   "cell_type": "code",
   "execution_count": 17,
   "id": "8322fc63",
   "metadata": {},
   "outputs": [
    {
     "name": "stdout",
     "output_type": "stream",
     "text": [
      "Found 767 images belonging to 2 classes.\n"
     ]
    }
   ],
   "source": [
    "test_set = test_datagen.flow_from_directory('test',\n",
    "                                            target_size = (224,224),\n",
    "                                            batch_size = 32,\n",
    "                                            class_mode = 'categorical')"
   ]
  },
  {
   "cell_type": "code",
   "execution_count": 18,
   "id": "b5ed4fad",
   "metadata": {},
   "outputs": [
    {
     "name": "stdout",
     "output_type": "stream",
     "text": [
      "Epoch 1/20\n"
     ]
    },
    {
     "name": "stderr",
     "output_type": "stream",
     "text": [
      "C:\\ProgramData\\Anaconda3\\envs\\gpu\\lib\\site-packages\\PIL\\Image.py:932: UserWarning: Palette images with Transparency expressed in bytes should be converted to RGBA images\n",
      "  \"Palette images with Transparency expressed in bytes should be \"\n"
     ]
    },
    {
     "name": "stdout",
     "output_type": "stream",
     "text": [
      "96/96 [==============================] - 414s 4s/step - loss: 0.2221 - accuracy: 0.9185 - val_loss: 0.1001 - val_accuracy: 0.9687\n",
      "Epoch 2/20\n",
      "96/96 [==============================] - 84s 880ms/step - loss: 0.0551 - accuracy: 0.9860 - val_loss: 0.0442 - val_accuracy: 0.9896\n",
      "Epoch 3/20\n",
      "96/96 [==============================] - 39s 410ms/step - loss: 0.0455 - accuracy: 0.9863 - val_loss: 0.0292 - val_accuracy: 0.9896\n",
      "Epoch 4/20\n",
      "96/96 [==============================] - 36s 379ms/step - loss: 0.0342 - accuracy: 0.9892 - val_loss: 0.1035 - val_accuracy: 0.9648\n",
      "Epoch 5/20\n",
      "96/96 [==============================] - 36s 380ms/step - loss: 0.0255 - accuracy: 0.9935 - val_loss: 0.0269 - val_accuracy: 0.9909\n",
      "Epoch 6/20\n",
      "96/96 [==============================] - 37s 380ms/step - loss: 0.0181 - accuracy: 0.9961 - val_loss: 0.0139 - val_accuracy: 0.9883\n",
      "Epoch 7/20\n",
      "96/96 [==============================] - 37s 380ms/step - loss: 0.0223 - accuracy: 0.9938 - val_loss: 0.0672 - val_accuracy: 0.9700\n",
      "Epoch 8/20\n",
      "96/96 [==============================] - 37s 381ms/step - loss: 0.0153 - accuracy: 0.9948 - val_loss: 0.0352 - val_accuracy: 0.9896\n",
      "Epoch 9/20\n",
      "96/96 [==============================] - 37s 381ms/step - loss: 0.0115 - accuracy: 0.9971 - val_loss: 0.0208 - val_accuracy: 0.9870\n",
      "Epoch 10/20\n",
      "96/96 [==============================] - 37s 381ms/step - loss: 0.0105 - accuracy: 0.9974 - val_loss: 0.0057 - val_accuracy: 0.9857\n",
      "Epoch 11/20\n",
      "96/96 [==============================] - 44s 460ms/step - loss: 0.0077 - accuracy: 0.9980 - val_loss: 0.0171 - val_accuracy: 0.9909\n",
      "Epoch 12/20\n",
      "96/96 [==============================] - 45s 469ms/step - loss: 0.0099 - accuracy: 0.9971 - val_loss: 0.0037 - val_accuracy: 0.9909\n",
      "Epoch 13/20\n",
      "96/96 [==============================] - 37s 380ms/step - loss: 0.0103 - accuracy: 0.9974 - val_loss: 0.0023 - val_accuracy: 0.9922\n",
      "Epoch 14/20\n",
      "96/96 [==============================] - 36s 380ms/step - loss: 0.0072 - accuracy: 0.9984 - val_loss: 0.0024 - val_accuracy: 0.9948\n",
      "Epoch 15/20\n",
      "96/96 [==============================] - 37s 381ms/step - loss: 0.0047 - accuracy: 0.9997 - val_loss: 0.0177 - val_accuracy: 0.9844\n",
      "Epoch 16/20\n",
      "96/96 [==============================] - 49s 512ms/step - loss: 0.0060 - accuracy: 0.9987 - val_loss: 0.0042 - val_accuracy: 0.9844\n",
      "Epoch 17/20\n",
      "96/96 [==============================] - 36s 380ms/step - loss: 0.0068 - accuracy: 0.9977 - val_loss: 0.0349 - val_accuracy: 0.9817\n",
      "Epoch 18/20\n",
      "96/96 [==============================] - 54s 566ms/step - loss: 0.0049 - accuracy: 0.9987 - val_loss: 0.0018 - val_accuracy: 0.9922\n",
      "Epoch 19/20\n",
      "96/96 [==============================] - 50s 518ms/step - loss: 0.0064 - accuracy: 0.9974 - val_loss: 5.4991e-04 - val_accuracy: 0.9948\n",
      "Epoch 20/20\n",
      "96/96 [==============================] - 42s 434ms/step - loss: 0.0030 - accuracy: 0.9993 - val_loss: 0.0933 - val_accuracy: 0.9700\n"
     ]
    }
   ],
   "source": [
    "#fit the model\n",
    "r = model.fit_generator(training_set,\n",
    "                        validation_data = test_set,\n",
    "                        epochs=20,\n",
    "                        steps_per_epoch = len(training_set),\n",
    "                        validation_steps = len(test_set))"
   ]
  },
  {
   "cell_type": "code",
   "execution_count": 19,
   "id": "6dfa17c6",
   "metadata": {},
   "outputs": [],
   "source": [
    "from keras.models import load_model\n",
    "model.save('Face_Mask_Detector_vgg16.h5')"
   ]
  },
  {
   "cell_type": "code",
   "execution_count": null,
   "id": "892f9a7e",
   "metadata": {},
   "outputs": [],
   "source": []
  }
 ],
 "metadata": {
  "kernelspec": {
   "display_name": "Python 3",
   "language": "python",
   "name": "python3"
  },
  "language_info": {
   "codemirror_mode": {
    "name": "ipython",
    "version": 3
   },
   "file_extension": ".py",
   "mimetype": "text/x-python",
   "name": "python",
   "nbconvert_exporter": "python",
   "pygments_lexer": "ipython3",
   "version": "3.6.13"
  }
 },
 "nbformat": 4,
 "nbformat_minor": 5
}
